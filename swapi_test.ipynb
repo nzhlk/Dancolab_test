{
 "cells": [
  {
   "cell_type": "code",
   "execution_count": 1,
   "metadata": {},
   "outputs": [],
   "source": [
    "import requests\n",
    "import json\n",
    "import pandas as pd\n",
    "import numpy as np"
   ]
  },
  {
   "cell_type": "code",
   "execution_count": 2,
   "metadata": {},
   "outputs": [],
   "source": [
    "BASE_URL = 'https://swapi.dev/api/people/'"
   ]
  },
  {
   "cell_type": "code",
   "execution_count": 3,
   "metadata": {},
   "outputs": [],
   "source": [
    "starwars_api = requests.get(BASE_URL).json()\n",
    "all_characters = starwars_api[\"results\"]\n",
    "\n",
    "while starwars_api[\"next\"]:\n",
    "    starwars_api = requests.get(starwars_api[\"next\"]).json()\n",
    "    all_characters.extend(starwars_api[\"results\"])\n"
   ]
  },
  {
   "cell_type": "code",
   "execution_count": 4,
   "metadata": {},
   "outputs": [],
   "source": [
    "# Создадим новый словарь \n",
    "tatooine_characters = []"
   ]
  },
  {
   "cell_type": "code",
   "execution_count": 5,
   "metadata": {},
   "outputs": [],
   "source": [
    "def get_name(url: str):\n",
    "    if isinstance(url, list):\n",
    "        \n",
    "        result_list = []\n",
    "        \n",
    "        for ulr_ in url:\n",
    "            result = requests.get(ulr_).json()\n",
    "            result_list.append(result.get('name'))\n",
    "        \n",
    "        return result_list\n",
    "    \n",
    "    elif not url:\n",
    "        return np.nan\n",
    "    \n",
    "    else:\n",
    "        result = requests.get(url).json()\n",
    "        return result.get('name')"
   ]
  },
  {
   "cell_type": "code",
   "execution_count": 6,
   "metadata": {},
   "outputs": [],
   "source": [
    "for dict_ in all_characters:\n",
    "     if dict_.get('homeworld') == 'https://swapi.dev/api/planets/1/':  # Tatooine\n",
    "        \n",
    "        starships = get_name(dict_.get('starships'))\n",
    "        \n",
    "        if not starships:\n",
    "            tatooine_characters.append({\n",
    "            'name': dict_.get('name'),\n",
    "            'homeworld.name': 'Tatooine',\n",
    "            'height': dict_.get('height'),\n",
    "            'gender': dict_.get('gender'),\n",
    "            'starships.name': np.nan\n",
    "        }\n",
    "            )\n",
    "        \n",
    "        else:\n",
    "            for item in starships:\n",
    "\n",
    "                tatooine_characters.append({\n",
    "                'name': dict_.get('name'),\n",
    "                'homeworld.name': 'Tatooine',\n",
    "                'height': dict_.get('height'),\n",
    "                'gender': dict_.get('gender'),\n",
    "                'starships.name': item\n",
    "            }\n",
    ")  "
   ]
  },
  {
   "cell_type": "code",
   "execution_count": 7,
   "metadata": {},
   "outputs": [],
   "source": [
    "df = pd.DataFrame.from_dict(tatooine_characters)"
   ]
  },
  {
   "cell_type": "code",
   "execution_count": 8,
   "metadata": {},
   "outputs": [
    {
     "data": {
      "text/html": [
       "<div>\n",
       "<style scoped>\n",
       "    .dataframe tbody tr th:only-of-type {\n",
       "        vertical-align: middle;\n",
       "    }\n",
       "\n",
       "    .dataframe tbody tr th {\n",
       "        vertical-align: top;\n",
       "    }\n",
       "\n",
       "    .dataframe thead th {\n",
       "        text-align: right;\n",
       "    }\n",
       "</style>\n",
       "<table border=\"1\" class=\"dataframe\">\n",
       "  <thead>\n",
       "    <tr style=\"text-align: right;\">\n",
       "      <th></th>\n",
       "      <th>name</th>\n",
       "      <th>homeworld.name</th>\n",
       "      <th>height</th>\n",
       "      <th>gender</th>\n",
       "      <th>starships.name</th>\n",
       "    </tr>\n",
       "  </thead>\n",
       "  <tbody>\n",
       "    <tr>\n",
       "      <th>0</th>\n",
       "      <td>Luke Skywalker</td>\n",
       "      <td>Tatooine</td>\n",
       "      <td>172</td>\n",
       "      <td>male</td>\n",
       "      <td>X-wing</td>\n",
       "    </tr>\n",
       "    <tr>\n",
       "      <th>1</th>\n",
       "      <td>Luke Skywalker</td>\n",
       "      <td>Tatooine</td>\n",
       "      <td>172</td>\n",
       "      <td>male</td>\n",
       "      <td>Imperial shuttle</td>\n",
       "    </tr>\n",
       "    <tr>\n",
       "      <th>2</th>\n",
       "      <td>C-3PO</td>\n",
       "      <td>Tatooine</td>\n",
       "      <td>167</td>\n",
       "      <td>n/a</td>\n",
       "      <td>NaN</td>\n",
       "    </tr>\n",
       "    <tr>\n",
       "      <th>3</th>\n",
       "      <td>Darth Vader</td>\n",
       "      <td>Tatooine</td>\n",
       "      <td>202</td>\n",
       "      <td>male</td>\n",
       "      <td>TIE Advanced x1</td>\n",
       "    </tr>\n",
       "    <tr>\n",
       "      <th>4</th>\n",
       "      <td>Owen Lars</td>\n",
       "      <td>Tatooine</td>\n",
       "      <td>178</td>\n",
       "      <td>male</td>\n",
       "      <td>NaN</td>\n",
       "    </tr>\n",
       "    <tr>\n",
       "      <th>5</th>\n",
       "      <td>Beru Whitesun lars</td>\n",
       "      <td>Tatooine</td>\n",
       "      <td>165</td>\n",
       "      <td>female</td>\n",
       "      <td>NaN</td>\n",
       "    </tr>\n",
       "    <tr>\n",
       "      <th>6</th>\n",
       "      <td>R5-D4</td>\n",
       "      <td>Tatooine</td>\n",
       "      <td>97</td>\n",
       "      <td>n/a</td>\n",
       "      <td>NaN</td>\n",
       "    </tr>\n",
       "    <tr>\n",
       "      <th>7</th>\n",
       "      <td>Biggs Darklighter</td>\n",
       "      <td>Tatooine</td>\n",
       "      <td>183</td>\n",
       "      <td>male</td>\n",
       "      <td>X-wing</td>\n",
       "    </tr>\n",
       "    <tr>\n",
       "      <th>8</th>\n",
       "      <td>Anakin Skywalker</td>\n",
       "      <td>Tatooine</td>\n",
       "      <td>188</td>\n",
       "      <td>male</td>\n",
       "      <td>Naboo fighter</td>\n",
       "    </tr>\n",
       "    <tr>\n",
       "      <th>9</th>\n",
       "      <td>Anakin Skywalker</td>\n",
       "      <td>Tatooine</td>\n",
       "      <td>188</td>\n",
       "      <td>male</td>\n",
       "      <td>Trade Federation cruiser</td>\n",
       "    </tr>\n",
       "    <tr>\n",
       "      <th>10</th>\n",
       "      <td>Anakin Skywalker</td>\n",
       "      <td>Tatooine</td>\n",
       "      <td>188</td>\n",
       "      <td>male</td>\n",
       "      <td>Jedi Interceptor</td>\n",
       "    </tr>\n",
       "    <tr>\n",
       "      <th>11</th>\n",
       "      <td>Shmi Skywalker</td>\n",
       "      <td>Tatooine</td>\n",
       "      <td>163</td>\n",
       "      <td>female</td>\n",
       "      <td>NaN</td>\n",
       "    </tr>\n",
       "    <tr>\n",
       "      <th>12</th>\n",
       "      <td>Cliegg Lars</td>\n",
       "      <td>Tatooine</td>\n",
       "      <td>183</td>\n",
       "      <td>male</td>\n",
       "      <td>NaN</td>\n",
       "    </tr>\n",
       "  </tbody>\n",
       "</table>\n",
       "</div>"
      ],
      "text/plain": [
       "                  name homeworld.name height  gender            starships.name\n",
       "0       Luke Skywalker       Tatooine    172    male                    X-wing\n",
       "1       Luke Skywalker       Tatooine    172    male          Imperial shuttle\n",
       "2                C-3PO       Tatooine    167     n/a                       NaN\n",
       "3          Darth Vader       Tatooine    202    male           TIE Advanced x1\n",
       "4            Owen Lars       Tatooine    178    male                       NaN\n",
       "5   Beru Whitesun lars       Tatooine    165  female                       NaN\n",
       "6                R5-D4       Tatooine     97     n/a                       NaN\n",
       "7    Biggs Darklighter       Tatooine    183    male                    X-wing\n",
       "8     Anakin Skywalker       Tatooine    188    male             Naboo fighter\n",
       "9     Anakin Skywalker       Tatooine    188    male  Trade Federation cruiser\n",
       "10    Anakin Skywalker       Tatooine    188    male          Jedi Interceptor\n",
       "11      Shmi Skywalker       Tatooine    163  female                       NaN\n",
       "12         Cliegg Lars       Tatooine    183    male                       NaN"
      ]
     },
     "execution_count": 8,
     "metadata": {},
     "output_type": "execute_result"
    }
   ],
   "source": [
    "df"
   ]
  },
  {
   "cell_type": "code",
   "execution_count": 9,
   "metadata": {},
   "outputs": [],
   "source": [
    "# Пункт 2.  Написать функцию для сохранения таблицы в CSV\n",
    "def to_csv(df_, path):\n",
    "    df_.to_csv(path, sep=',',index=False) # to def "
   ]
  },
  {
   "cell_type": "code",
   "execution_count": 10,
   "metadata": {},
   "outputs": [],
   "source": [
    "to_csv(df, './file.csv')"
   ]
  },
  {
   "cell_type": "code",
   "execution_count": 11,
   "metadata": {},
   "outputs": [
    {
     "name": "stdout",
     "output_type": "stream",
     "text": [
      "The error '2003: Can't connect to MySQL server on 'localhost:3306' (10061 Подключение не установлено, т.к. конечный компьютер отверг запрос на подключение)' occurred\n"
     ]
    }
   ],
   "source": [
    "# Пункт 3.  Написать функцию для сохранения таблицы в бд Mysql\n",
    "import mysql.connector\n",
    "from mysql.connector import Error\n",
    "\n",
    "def create_connection(host_name, user_name, user_password):\n",
    "    connection = None\n",
    "    try:\n",
    "        connection = mysql.connector.connect(\n",
    "            host=host_name,\n",
    "            user=user_name,\n",
    "            passwd=user_password\n",
    "        )\n",
    "        print(\"Connection to MySQL DB successful\")\n",
    "    except Error as e:\n",
    "        print(f\"The error '{e}' occurred\")\n",
    "        return connection\n",
    "\n",
    "connection = create_connection(\"localhost\", \"root\", \"\")\n"
   ]
  }
 ],
 "metadata": {
  "kernelspec": {
   "display_name": "Python 3",
   "language": "python",
   "name": "python3"
  },
  "language_info": {
   "codemirror_mode": {
    "name": "ipython",
    "version": 3
   },
   "file_extension": ".py",
   "mimetype": "text/x-python",
   "name": "python",
   "nbconvert_exporter": "python",
   "pygments_lexer": "ipython3",
   "version": "3.9.0"
  }
 },
 "nbformat": 4,
 "nbformat_minor": 4
}
